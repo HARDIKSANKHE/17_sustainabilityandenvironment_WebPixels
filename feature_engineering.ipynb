{
 "cells": [
  {
   "cell_type": "code",
   "execution_count": 2,
   "id": "1cee1411-40c2-4966-84a3-f42368dc160c",
   "metadata": {},
   "outputs": [],
   "source": [
    "import pandas as pd\n",
    "import numpy as np\n",
    "import matplotlib.pyplot as plt\n",
    "import seaborn as sns"
   ]
  },
  {
   "cell_type": "code",
   "execution_count": 3,
   "id": "50662e05-098d-41a9-915e-eecc094b71a0",
   "metadata": {},
   "outputs": [
    {
     "data": {
      "text/html": [
       "<div>\n",
       "<style scoped>\n",
       "    .dataframe tbody tr th:only-of-type {\n",
       "        vertical-align: middle;\n",
       "    }\n",
       "\n",
       "    .dataframe tbody tr th {\n",
       "        vertical-align: top;\n",
       "    }\n",
       "\n",
       "    .dataframe thead th {\n",
       "        text-align: right;\n",
       "    }\n",
       "</style>\n",
       "<table border=\"1\" class=\"dataframe\">\n",
       "  <thead>\n",
       "    <tr style=\"text-align: right;\">\n",
       "      <th></th>\n",
       "      <th>date</th>\n",
       "      <th>c1</th>\n",
       "      <th>c2</th>\n",
       "      <th>c3</th>\n",
       "      <th>p1</th>\n",
       "      <th>p2</th>\n",
       "      <th>p3</th>\n",
       "      <th>stability</th>\n",
       "    </tr>\n",
       "  </thead>\n",
       "  <tbody>\n",
       "    <tr>\n",
       "      <th>0</th>\n",
       "      <td>01-01-2019 01:00</td>\n",
       "      <td>-0.782604</td>\n",
       "      <td>-1.257395</td>\n",
       "      <td>-1.723086</td>\n",
       "      <td>0.859578</td>\n",
       "      <td>0.887445</td>\n",
       "      <td>0.958034</td>\n",
       "      <td>unstable</td>\n",
       "    </tr>\n",
       "    <tr>\n",
       "      <th>1</th>\n",
       "      <td>01-01-2019 02:00</td>\n",
       "      <td>-1.940058</td>\n",
       "      <td>-1.872742</td>\n",
       "      <td>-1.255012</td>\n",
       "      <td>0.862414</td>\n",
       "      <td>0.562139</td>\n",
       "      <td>0.781760</td>\n",
       "      <td>stable</td>\n",
       "    </tr>\n",
       "    <tr>\n",
       "      <th>2</th>\n",
       "      <td>01-01-2019 03:00</td>\n",
       "      <td>-1.207456</td>\n",
       "      <td>-1.277210</td>\n",
       "      <td>-0.920492</td>\n",
       "      <td>0.766689</td>\n",
       "      <td>0.839444</td>\n",
       "      <td>0.109853</td>\n",
       "      <td>unstable</td>\n",
       "    </tr>\n",
       "    <tr>\n",
       "      <th>3</th>\n",
       "      <td>01-01-2019 04:00</td>\n",
       "      <td>-1.027473</td>\n",
       "      <td>-1.938944</td>\n",
       "      <td>-0.997374</td>\n",
       "      <td>0.976744</td>\n",
       "      <td>0.929381</td>\n",
       "      <td>0.362718</td>\n",
       "      <td>unstable</td>\n",
       "    </tr>\n",
       "    <tr>\n",
       "      <th>4</th>\n",
       "      <td>01-01-2019 05:00</td>\n",
       "      <td>-1.125531</td>\n",
       "      <td>-1.845975</td>\n",
       "      <td>-0.554305</td>\n",
       "      <td>0.455450</td>\n",
       "      <td>0.656947</td>\n",
       "      <td>0.820923</td>\n",
       "      <td>unstable</td>\n",
       "    </tr>\n",
       "  </tbody>\n",
       "</table>\n",
       "</div>"
      ],
      "text/plain": [
       "               date        c1        c2        c3        p1        p2  \\\n",
       "0  01-01-2019 01:00 -0.782604 -1.257395 -1.723086  0.859578  0.887445   \n",
       "1  01-01-2019 02:00 -1.940058 -1.872742 -1.255012  0.862414  0.562139   \n",
       "2  01-01-2019 03:00 -1.207456 -1.277210 -0.920492  0.766689  0.839444   \n",
       "3  01-01-2019 04:00 -1.027473 -1.938944 -0.997374  0.976744  0.929381   \n",
       "4  01-01-2019 05:00 -1.125531 -1.845975 -0.554305  0.455450  0.656947   \n",
       "\n",
       "         p3 stability  \n",
       "0  0.958034  unstable  \n",
       "1  0.781760    stable  \n",
       "2  0.109853  unstable  \n",
       "3  0.362718  unstable  \n",
       "4  0.820923  unstable  "
      ]
     },
     "execution_count": 3,
     "metadata": {},
     "output_type": "execute_result"
    }
   ],
   "source": [
    "grid_data = pd.read_csv('grid_stability_5years.csv')\n",
    "grid_data.head()"
   ]
  },
  {
   "cell_type": "code",
   "execution_count": 4,
   "id": "9903173c-d7ce-4e62-be00-ba3e71254183",
   "metadata": {},
   "outputs": [
    {
     "data": {
      "text/plain": [
       "(43823, 8)"
      ]
     },
     "execution_count": 4,
     "metadata": {},
     "output_type": "execute_result"
    }
   ],
   "source": [
    "grid_data.shape"
   ]
  },
  {
   "cell_type": "code",
   "execution_count": 5,
   "id": "26745655-5346-403e-8123-ebcc1ef2b4de",
   "metadata": {},
   "outputs": [
    {
     "data": {
      "text/plain": [
       "Index(['date', 'c1', 'c2', 'c3', 'p1', 'p2', 'p3', 'stability'], dtype='object')"
      ]
     },
     "execution_count": 5,
     "metadata": {},
     "output_type": "execute_result"
    }
   ],
   "source": [
    "grid_data.columns"
   ]
  },
  {
   "cell_type": "code",
   "execution_count": 13,
   "id": "38e4cb59-345e-4bee-addb-2c254745b004",
   "metadata": {},
   "outputs": [
    {
     "data": {
      "text/plain": [
       "<bound method DataFrame.sum of         date     c1     c2     c3     p1     p2     p3  stability\n",
       "0      False  False  False  False  False  False  False      False\n",
       "1      False  False  False  False  False  False  False      False\n",
       "2      False  False  False  False  False  False  False      False\n",
       "3      False  False  False  False  False  False  False      False\n",
       "4      False  False  False  False  False  False  False      False\n",
       "...      ...    ...    ...    ...    ...    ...    ...        ...\n",
       "43818  False  False  False  False  False  False  False      False\n",
       "43819  False  False  False  False  False  False  False      False\n",
       "43820  False  False  False  False  False  False  False      False\n",
       "43821  False  False  False  False  False  False  False      False\n",
       "43822  False  False  False  False  False  False  False      False\n",
       "\n",
       "[43823 rows x 8 columns]>"
      ]
     },
     "execution_count": 13,
     "metadata": {},
     "output_type": "execute_result"
    }
   ],
   "source": [
    "grid_data.isnull().sum\n"
   ]
  },
  {
   "cell_type": "code",
   "execution_count": 6,
   "id": "09379319-a38e-4e4e-bfae-de854f977564",
   "metadata": {},
   "outputs": [
    {
     "data": {
      "text/html": [
       "<div>\n",
       "<style scoped>\n",
       "    .dataframe tbody tr th:only-of-type {\n",
       "        vertical-align: middle;\n",
       "    }\n",
       "\n",
       "    .dataframe tbody tr th {\n",
       "        vertical-align: top;\n",
       "    }\n",
       "\n",
       "    .dataframe thead th {\n",
       "        text-align: right;\n",
       "    }\n",
       "</style>\n",
       "<table border=\"1\" class=\"dataframe\">\n",
       "  <thead>\n",
       "    <tr style=\"text-align: right;\">\n",
       "      <th></th>\n",
       "      <th>date</th>\n",
       "      <th>c1</th>\n",
       "      <th>c2</th>\n",
       "      <th>c3</th>\n",
       "      <th>p1</th>\n",
       "      <th>p2</th>\n",
       "      <th>p3</th>\n",
       "      <th>stability</th>\n",
       "    </tr>\n",
       "  </thead>\n",
       "  <tbody>\n",
       "  </tbody>\n",
       "</table>\n",
       "</div>"
      ],
      "text/plain": [
       "Empty DataFrame\n",
       "Columns: [date, c1, c2, c3, p1, p2, p3, stability]\n",
       "Index: []"
      ]
     },
     "execution_count": 6,
     "metadata": {},
     "output_type": "execute_result"
    }
   ],
   "source": [
    "grid_data[grid_data.duplicated()]"
   ]
  },
  {
   "cell_type": "code",
   "execution_count": 15,
   "id": "d12237e3-0cdf-46d5-849b-ec3686130327",
   "metadata": {},
   "outputs": [],
   "source": [
    "grid_data = grid_data.drop_duplicates(keep=\"first\")"
   ]
  },
  {
   "cell_type": "code",
   "execution_count": 16,
   "id": "be64b800-3804-46f7-87d3-52b14f7ec9ef",
   "metadata": {},
   "outputs": [
    {
     "data": {
      "text/plain": [
       "date         0\n",
       "c1           0\n",
       "c2           0\n",
       "c3           0\n",
       "p1           0\n",
       "p2           0\n",
       "p3           0\n",
       "stability    0\n",
       "dtype: int64"
      ]
     },
     "execution_count": 16,
     "metadata": {},
     "output_type": "execute_result"
    }
   ],
   "source": [
    "grid_data.isnull().sum()\n"
   ]
  },
  {
   "cell_type": "code",
   "execution_count": 17,
   "id": "6f20d0f8-c12b-4ed2-a192-e1df806785e9",
   "metadata": {},
   "outputs": [],
   "source": [
    "grid_data.dropna(how='any', inplace=True)"
   ]
  },
  {
   "cell_type": "code",
   "execution_count": 21,
   "id": "b0849abb-989d-44c5-908a-a1c7b5666fe0",
   "metadata": {},
   "outputs": [
    {
     "data": {
      "text/html": [
       "<div>\n",
       "<style scoped>\n",
       "    .dataframe tbody tr th:only-of-type {\n",
       "        vertical-align: middle;\n",
       "    }\n",
       "\n",
       "    .dataframe tbody tr th {\n",
       "        vertical-align: top;\n",
       "    }\n",
       "\n",
       "    .dataframe thead th {\n",
       "        text-align: right;\n",
       "    }\n",
       "</style>\n",
       "<table border=\"1\" class=\"dataframe\">\n",
       "  <thead>\n",
       "    <tr style=\"text-align: right;\">\n",
       "      <th></th>\n",
       "      <th>c1</th>\n",
       "      <th>c2</th>\n",
       "      <th>c3</th>\n",
       "      <th>p1</th>\n",
       "      <th>p2</th>\n",
       "      <th>p3</th>\n",
       "    </tr>\n",
       "  </thead>\n",
       "  <tbody>\n",
       "    <tr>\n",
       "      <th>count</th>\n",
       "      <td>43823.000000</td>\n",
       "      <td>43823.000000</td>\n",
       "      <td>43823.000000</td>\n",
       "      <td>43823.000000</td>\n",
       "      <td>43823.000000</td>\n",
       "      <td>43823.000000</td>\n",
       "    </tr>\n",
       "    <tr>\n",
       "      <th>mean</th>\n",
       "      <td>-1.250546</td>\n",
       "      <td>-1.249507</td>\n",
       "      <td>-1.249552</td>\n",
       "      <td>0.524386</td>\n",
       "      <td>0.525091</td>\n",
       "      <td>0.524850</td>\n",
       "    </tr>\n",
       "    <tr>\n",
       "      <th>std</th>\n",
       "      <td>0.432717</td>\n",
       "      <td>0.433164</td>\n",
       "      <td>0.432663</td>\n",
       "      <td>0.274152</td>\n",
       "      <td>0.274024</td>\n",
       "      <td>0.274112</td>\n",
       "    </tr>\n",
       "    <tr>\n",
       "      <th>min</th>\n",
       "      <td>-1.999945</td>\n",
       "      <td>-1.999945</td>\n",
       "      <td>-1.999945</td>\n",
       "      <td>0.050028</td>\n",
       "      <td>0.050028</td>\n",
       "      <td>0.050028</td>\n",
       "    </tr>\n",
       "    <tr>\n",
       "      <th>25%</th>\n",
       "      <td>-1.624822</td>\n",
       "      <td>-1.625254</td>\n",
       "      <td>-1.624678</td>\n",
       "      <td>0.287146</td>\n",
       "      <td>0.288137</td>\n",
       "      <td>0.287527</td>\n",
       "    </tr>\n",
       "    <tr>\n",
       "      <th>50%</th>\n",
       "      <td>-1.250468</td>\n",
       "      <td>-1.249347</td>\n",
       "      <td>-1.248716</td>\n",
       "      <td>0.523687</td>\n",
       "      <td>0.524937</td>\n",
       "      <td>0.524818</td>\n",
       "    </tr>\n",
       "    <tr>\n",
       "      <th>75%</th>\n",
       "      <td>-0.876309</td>\n",
       "      <td>-0.873360</td>\n",
       "      <td>-0.875252</td>\n",
       "      <td>0.761357</td>\n",
       "      <td>0.762186</td>\n",
       "      <td>0.762276</td>\n",
       "    </tr>\n",
       "    <tr>\n",
       "      <th>max</th>\n",
       "      <td>-0.500025</td>\n",
       "      <td>-0.500025</td>\n",
       "      <td>-0.500025</td>\n",
       "      <td>0.999982</td>\n",
       "      <td>0.999982</td>\n",
       "      <td>0.999982</td>\n",
       "    </tr>\n",
       "  </tbody>\n",
       "</table>\n",
       "</div>"
      ],
      "text/plain": [
       "                 c1            c2            c3            p1            p2  \\\n",
       "count  43823.000000  43823.000000  43823.000000  43823.000000  43823.000000   \n",
       "mean      -1.250546     -1.249507     -1.249552      0.524386      0.525091   \n",
       "std        0.432717      0.433164      0.432663      0.274152      0.274024   \n",
       "min       -1.999945     -1.999945     -1.999945      0.050028      0.050028   \n",
       "25%       -1.624822     -1.625254     -1.624678      0.287146      0.288137   \n",
       "50%       -1.250468     -1.249347     -1.248716      0.523687      0.524937   \n",
       "75%       -0.876309     -0.873360     -0.875252      0.761357      0.762186   \n",
       "max       -0.500025     -0.500025     -0.500025      0.999982      0.999982   \n",
       "\n",
       "                 p3  \n",
       "count  43823.000000  \n",
       "mean       0.524850  \n",
       "std        0.274112  \n",
       "min        0.050028  \n",
       "25%        0.287527  \n",
       "50%        0.524818  \n",
       "75%        0.762276  \n",
       "max        0.999982  "
      ]
     },
     "execution_count": 21,
     "metadata": {},
     "output_type": "execute_result"
    }
   ],
   "source": [
    "grid_data.describe()"
   ]
  },
  {
   "cell_type": "code",
   "execution_count": 20,
   "id": "1f4fcb9b-826d-4f0a-83b5-c2eb4315565f",
   "metadata": {},
   "outputs": [
    {
     "data": {
      "text/html": [
       "<div>\n",
       "<style scoped>\n",
       "    .dataframe tbody tr th:only-of-type {\n",
       "        vertical-align: middle;\n",
       "    }\n",
       "\n",
       "    .dataframe tbody tr th {\n",
       "        vertical-align: top;\n",
       "    }\n",
       "\n",
       "    .dataframe thead th {\n",
       "        text-align: right;\n",
       "    }\n",
       "</style>\n",
       "<table border=\"1\" class=\"dataframe\">\n",
       "  <thead>\n",
       "    <tr style=\"text-align: right;\">\n",
       "      <th></th>\n",
       "      <th>c1</th>\n",
       "      <th>c2</th>\n",
       "      <th>c3</th>\n",
       "      <th>p1</th>\n",
       "      <th>p2</th>\n",
       "      <th>p3</th>\n",
       "    </tr>\n",
       "  </thead>\n",
       "  <tbody>\n",
       "    <tr>\n",
       "      <th>c1</th>\n",
       "      <td>1.000000</td>\n",
       "      <td>0.000602</td>\n",
       "      <td>0.001196</td>\n",
       "      <td>-0.005129</td>\n",
       "      <td>0.005303</td>\n",
       "      <td>0.004277</td>\n",
       "    </tr>\n",
       "    <tr>\n",
       "      <th>c2</th>\n",
       "      <td>0.000602</td>\n",
       "      <td>1.000000</td>\n",
       "      <td>0.005944</td>\n",
       "      <td>0.000980</td>\n",
       "      <td>0.003134</td>\n",
       "      <td>-0.002371</td>\n",
       "    </tr>\n",
       "    <tr>\n",
       "      <th>c3</th>\n",
       "      <td>0.001196</td>\n",
       "      <td>0.005944</td>\n",
       "      <td>1.000000</td>\n",
       "      <td>-0.002305</td>\n",
       "      <td>-0.001388</td>\n",
       "      <td>-0.004480</td>\n",
       "    </tr>\n",
       "    <tr>\n",
       "      <th>p1</th>\n",
       "      <td>-0.005129</td>\n",
       "      <td>0.000980</td>\n",
       "      <td>-0.002305</td>\n",
       "      <td>1.000000</td>\n",
       "      <td>-0.006812</td>\n",
       "      <td>-0.009516</td>\n",
       "    </tr>\n",
       "    <tr>\n",
       "      <th>p2</th>\n",
       "      <td>0.005303</td>\n",
       "      <td>0.003134</td>\n",
       "      <td>-0.001388</td>\n",
       "      <td>-0.006812</td>\n",
       "      <td>1.000000</td>\n",
       "      <td>-0.003721</td>\n",
       "    </tr>\n",
       "    <tr>\n",
       "      <th>p3</th>\n",
       "      <td>0.004277</td>\n",
       "      <td>-0.002371</td>\n",
       "      <td>-0.004480</td>\n",
       "      <td>-0.009516</td>\n",
       "      <td>-0.003721</td>\n",
       "      <td>1.000000</td>\n",
       "    </tr>\n",
       "  </tbody>\n",
       "</table>\n",
       "</div>"
      ],
      "text/plain": [
       "          c1        c2        c3        p1        p2        p3\n",
       "c1  1.000000  0.000602  0.001196 -0.005129  0.005303  0.004277\n",
       "c2  0.000602  1.000000  0.005944  0.000980  0.003134 -0.002371\n",
       "c3  0.001196  0.005944  1.000000 -0.002305 -0.001388 -0.004480\n",
       "p1 -0.005129  0.000980 -0.002305  1.000000 -0.006812 -0.009516\n",
       "p2  0.005303  0.003134 -0.001388 -0.006812  1.000000 -0.003721\n",
       "p3  0.004277 -0.002371 -0.004480 -0.009516 -0.003721  1.000000"
      ]
     },
     "execution_count": 20,
     "metadata": {},
     "output_type": "execute_result"
    }
   ],
   "source": [
    "corr = grid_data[['c1', 'c2', 'c3', 'p1', 'p2', 'p3']].corr()\n",
    "corr"
   ]
  },
  {
   "cell_type": "code",
   "execution_count": 22,
   "id": "1cffac07-43fb-474c-af7e-bedf82285ce0",
   "metadata": {},
   "outputs": [
    {
     "data": {
      "text/plain": [
       "<Axes: >"
      ]
     },
     "execution_count": 22,
     "metadata": {},
     "output_type": "execute_result"
    },
    {
     "data": {
      "image/png": "[encoded data removed]",
      "text/plain": [
       "<Figure size 640x480 with 2 Axes>"
      ]
     },
     "metadata": {},
     "output_type": "display_data"
    }
   ],
   "source": [
    "sns.heatmap(corr, annot=True)"
   ]
  },
  {
   "cell_type": "markdown",
   "id": "e98b2c47-a15d-440d-a245-72792f42ab6a",
   "metadata": {},
   "source": [
    "#### Feature Engineering:"
   ]
  },
  {
   "cell_type": "code",
   "execution_count": 24,
   "id": "65a61ec0-46e7-4306-83a1-d51fea4f964b",
   "metadata": {},
   "outputs": [],
   "source": [
    "from sklearn.preprocessing import LabelEncoder\n",
    "Label_Encoder = LabelEncoder()"
   ]
  },
  {
   "cell_type": "code",
   "execution_count": 25,
   "id": "e23e48cf-81d9-4b0a-9c37-fc33b07cffa3",
   "metadata": {},
   "outputs": [],
   "source": [
    "grid_data['stability_encode'] = Label_Encoder.fit_transform(grid_data['stability'])"
   ]
  },
  {
   "cell_type": "code",
   "execution_count": 26,
   "id": "1958a74c-ee3a-4e3a-add9-7750cde52c1d",
   "metadata": {},
   "outputs": [
    {
     "data": {
      "text/html": [
       "<div>\n",
       "<style scoped>\n",
       "    .dataframe tbody tr th:only-of-type {\n",
       "        vertical-align: middle;\n",
       "    }\n",
       "\n",
       "    .dataframe tbody tr th {\n",
       "        vertical-align: top;\n",
       "    }\n",
       "\n",
       "    .dataframe thead th {\n",
       "        text-align: right;\n",
       "    }\n",
       "</style>\n",
       "<table border=\"1\" class=\"dataframe\">\n",
       "  <thead>\n",
       "    <tr style=\"text-align: right;\">\n",
       "      <th></th>\n",
       "      <th>date</th>\n",
       "      <th>c1</th>\n",
       "      <th>c2</th>\n",
       "      <th>c3</th>\n",
       "      <th>p1</th>\n",
       "      <th>p2</th>\n",
       "      <th>p3</th>\n",
       "      <th>stability</th>\n",
       "      <th>stability_encode</th>\n",
       "    </tr>\n",
       "  </thead>\n",
       "  <tbody>\n",
       "    <tr>\n",
       "      <th>0</th>\n",
       "      <td>01-01-2019 01:00</td>\n",
       "      <td>-0.782604</td>\n",
       "      <td>-1.257395</td>\n",
       "      <td>-1.723086</td>\n",
       "      <td>0.859578</td>\n",
       "      <td>0.887445</td>\n",
       "      <td>0.958034</td>\n",
       "      <td>unstable</td>\n",
       "      <td>1</td>\n",
       "    </tr>\n",
       "    <tr>\n",
       "      <th>1</th>\n",
       "      <td>01-01-2019 02:00</td>\n",
       "      <td>-1.940058</td>\n",
       "      <td>-1.872742</td>\n",
       "      <td>-1.255012</td>\n",
       "      <td>0.862414</td>\n",
       "      <td>0.562139</td>\n",
       "      <td>0.781760</td>\n",
       "      <td>stable</td>\n",
       "      <td>0</td>\n",
       "    </tr>\n",
       "    <tr>\n",
       "      <th>2</th>\n",
       "      <td>01-01-2019 03:00</td>\n",
       "      <td>-1.207456</td>\n",
       "      <td>-1.277210</td>\n",
       "      <td>-0.920492</td>\n",
       "      <td>0.766689</td>\n",
       "      <td>0.839444</td>\n",
       "      <td>0.109853</td>\n",
       "      <td>unstable</td>\n",
       "      <td>1</td>\n",
       "    </tr>\n",
       "    <tr>\n",
       "      <th>3</th>\n",
       "      <td>01-01-2019 04:00</td>\n",
       "      <td>-1.027473</td>\n",
       "      <td>-1.938944</td>\n",
       "      <td>-0.997374</td>\n",
       "      <td>0.976744</td>\n",
       "      <td>0.929381</td>\n",
       "      <td>0.362718</td>\n",
       "      <td>unstable</td>\n",
       "      <td>1</td>\n",
       "    </tr>\n",
       "    <tr>\n",
       "      <th>4</th>\n",
       "      <td>01-01-2019 05:00</td>\n",
       "      <td>-1.125531</td>\n",
       "      <td>-1.845975</td>\n",
       "      <td>-0.554305</td>\n",
       "      <td>0.455450</td>\n",
       "      <td>0.656947</td>\n",
       "      <td>0.820923</td>\n",
       "      <td>unstable</td>\n",
       "      <td>1</td>\n",
       "    </tr>\n",
       "  </tbody>\n",
       "</table>\n",
       "</div>"
      ],
      "text/plain": [
       "               date        c1        c2        c3        p1        p2  \\\n",
       "0  01-01-2019 01:00 -0.782604 -1.257395 -1.723086  0.859578  0.887445   \n",
       "1  01-01-2019 02:00 -1.940058 -1.872742 -1.255012  0.862414  0.562139   \n",
       "2  01-01-2019 03:00 -1.207456 -1.277210 -0.920492  0.766689  0.839444   \n",
       "3  01-01-2019 04:00 -1.027473 -1.938944 -0.997374  0.976744  0.929381   \n",
       "4  01-01-2019 05:00 -1.125531 -1.845975 -0.554305  0.455450  0.656947   \n",
       "\n",
       "         p3 stability  stability_encode  \n",
       "0  0.958034  unstable                 1  \n",
       "1  0.781760    stable                 0  \n",
       "2  0.109853  unstable                 1  \n",
       "3  0.362718  unstable                 1  \n",
       "4  0.820923  unstable                 1  "
      ]
     },
     "execution_count": 26,
     "metadata": {},
     "output_type": "execute_result"
    }
   ],
   "source": [
    "grid_data.head()"
   ]
  },
  {
   "cell_type": "markdown",
   "id": "c563e160-2433-4ddb-aea2-ac10b9b67ae8",
   "metadata": {},
   "source": [
    "#### Feature Scaling\n"
   ]
  },
  {
   "cell_type": "code",
   "execution_count": 27,
   "id": "e44895c2-7576-4a93-9ed6-9280e14a70af",
   "metadata": {},
   "outputs": [],
   "source": [
    "from sklearn.preprocessing import StandardScaler\n",
    "std_scaler=StandardScaler()"
   ]
  },
  {
   "cell_type": "code",
   "execution_count": 29,
   "id": "be3eb42e-436e-40ba-9f04-cbf47ff55a09",
   "metadata": {},
   "outputs": [],
   "source": [
    "grid_data['c1_scaled']=std_scaler.fit_transform(grid_data[['c1']])"
   ]
  },
  {
   "cell_type": "code",
   "execution_count": 30,
   "id": "719672cd-056e-4a64-b08d-d823fbd69562",
   "metadata": {},
   "outputs": [],
   "source": [
    "grid_data['c2_scaled']=std_scaler.fit_transform(grid_data[['c2']])"
   ]
  },
  {
   "cell_type": "code",
   "execution_count": 31,
   "id": "5509daba-1069-435d-b346-563d625413f1",
   "metadata": {},
   "outputs": [],
   "source": [
    "grid_data['c3_scaled']=std_scaler.fit_transform(grid_data[['c3']])"
   ]
  },
  {
   "cell_type": "code",
   "execution_count": 32,
   "id": "d256d82f-fcae-459f-b28d-11e44f5f21d2",
   "metadata": {},
   "outputs": [],
   "source": [
    "grid_data['p1_scaled']=std_scaler.fit_transform(grid_data[['p1']])"
   ]
  },
  {
   "cell_type": "code",
   "execution_count": 33,
   "id": "fe275327-554f-42e1-ab86-2a64add64987",
   "metadata": {},
   "outputs": [],
   "source": [
    "grid_data['p2_scaled']=std_scaler.fit_transform(grid_data[['p2']])"
   ]
  },
  {
   "cell_type": "code",
   "execution_count": 34,
   "id": "6ebc0340-4d73-4744-a911-530ef0c343dc",
   "metadata": {},
   "outputs": [],
   "source": [
    "grid_data['p3_scaled']=std_scaler.fit_transform(grid_data[['p3']])"
   ]
  },
  {
   "cell_type": "code",
   "execution_count": 35,
   "id": "3694b5c6-295b-4b7a-a75b-a90d32e77dc6",
   "metadata": {},
   "outputs": [
    {
     "data": {
      "text/html": [
       "<div>\n",
       "<style scoped>\n",
       "    .dataframe tbody tr th:only-of-type {\n",
       "        vertical-align: middle;\n",
       "    }\n",
       "\n",
       "    .dataframe tbody tr th {\n",
       "        vertical-align: top;\n",
       "    }\n",
       "\n",
       "    .dataframe thead th {\n",
       "        text-align: right;\n",
       "    }\n",
       "</style>\n",
       "<table border=\"1\" class=\"dataframe\">\n",
       "  <thead>\n",
       "    <tr style=\"text-align: right;\">\n",
       "      <th></th>\n",
       "      <th>date</th>\n",
       "      <th>c1</th>\n",
       "      <th>c2</th>\n",
       "      <th>c3</th>\n",
       "      <th>p1</th>\n",
       "      <th>p2</th>\n",
       "      <th>p3</th>\n",
       "      <th>stability</th>\n",
       "      <th>stability_encode</th>\n",
       "      <th>c1_scaled</th>\n",
       "      <th>c2_scaled</th>\n",
       "      <th>c3_scaled</th>\n",
       "      <th>p1_scaled</th>\n",
       "      <th>p2_scaled</th>\n",
       "      <th>p3_scaled</th>\n",
       "    </tr>\n",
       "  </thead>\n",
       "  <tbody>\n",
       "    <tr>\n",
       "      <th>0</th>\n",
       "      <td>01-01-2019 01:00</td>\n",
       "      <td>-0.782604</td>\n",
       "      <td>-1.257395</td>\n",
       "      <td>-1.723086</td>\n",
       "      <td>0.859578</td>\n",
       "      <td>0.887445</td>\n",
       "      <td>0.958034</td>\n",
       "      <td>unstable</td>\n",
       "      <td>1</td>\n",
       "      <td>1.081419</td>\n",
       "      <td>-0.018211</td>\n",
       "      <td>-1.094476</td>\n",
       "      <td>1.222662</td>\n",
       "      <td>1.322361</td>\n",
       "      <td>1.580336</td>\n",
       "    </tr>\n",
       "    <tr>\n",
       "      <th>1</th>\n",
       "      <td>01-01-2019 02:00</td>\n",
       "      <td>-1.940058</td>\n",
       "      <td>-1.872742</td>\n",
       "      <td>-1.255012</td>\n",
       "      <td>0.862414</td>\n",
       "      <td>0.562139</td>\n",
       "      <td>0.781760</td>\n",
       "      <td>stable</td>\n",
       "      <td>0</td>\n",
       "      <td>-1.593468</td>\n",
       "      <td>-1.438812</td>\n",
       "      <td>-0.012619</td>\n",
       "      <td>1.233007</td>\n",
       "      <td>0.135203</td>\n",
       "      <td>0.937256</td>\n",
       "    </tr>\n",
       "    <tr>\n",
       "      <th>2</th>\n",
       "      <td>01-01-2019 03:00</td>\n",
       "      <td>-1.207456</td>\n",
       "      <td>-1.277210</td>\n",
       "      <td>-0.920492</td>\n",
       "      <td>0.766689</td>\n",
       "      <td>0.839444</td>\n",
       "      <td>0.109853</td>\n",
       "      <td>unstable</td>\n",
       "      <td>1</td>\n",
       "      <td>0.099583</td>\n",
       "      <td>-0.063957</td>\n",
       "      <td>0.760554</td>\n",
       "      <td>0.883834</td>\n",
       "      <td>1.147188</td>\n",
       "      <td>-1.513985</td>\n",
       "    </tr>\n",
       "    <tr>\n",
       "      <th>3</th>\n",
       "      <td>01-01-2019 04:00</td>\n",
       "      <td>-1.027473</td>\n",
       "      <td>-1.938944</td>\n",
       "      <td>-0.997374</td>\n",
       "      <td>0.976744</td>\n",
       "      <td>0.929381</td>\n",
       "      <td>0.362718</td>\n",
       "      <td>unstable</td>\n",
       "      <td>1</td>\n",
       "      <td>0.515523</td>\n",
       "      <td>-1.591649</td>\n",
       "      <td>0.582859</td>\n",
       "      <td>1.650043</td>\n",
       "      <td>1.475399</td>\n",
       "      <td>-0.591488</td>\n",
       "    </tr>\n",
       "    <tr>\n",
       "      <th>4</th>\n",
       "      <td>01-01-2019 05:00</td>\n",
       "      <td>-1.125531</td>\n",
       "      <td>-1.845975</td>\n",
       "      <td>-0.554305</td>\n",
       "      <td>0.455450</td>\n",
       "      <td>0.656947</td>\n",
       "      <td>0.820923</td>\n",
       "      <td>unstable</td>\n",
       "      <td>1</td>\n",
       "      <td>0.288911</td>\n",
       "      <td>-1.377018</td>\n",
       "      <td>1.606921</td>\n",
       "      <td>-0.251455</td>\n",
       "      <td>0.481190</td>\n",
       "      <td>1.080132</td>\n",
       "    </tr>\n",
       "  </tbody>\n",
       "</table>\n",
       "</div>"
      ],
      "text/plain": [
       "               date        c1        c2        c3        p1        p2  \\\n",
       "0  01-01-2019 01:00 -0.782604 -1.257395 -1.723086  0.859578  0.887445   \n",
       "1  01-01-2019 02:00 -1.940058 -1.872742 -1.255012  0.862414  0.562139   \n",
       "2  01-01-2019 03:00 -1.207456 -1.277210 -0.920492  0.766689  0.839444   \n",
       "3  01-01-2019 04:00 -1.027473 -1.938944 -0.997374  0.976744  0.929381   \n",
       "4  01-01-2019 05:00 -1.125531 -1.845975 -0.554305  0.455450  0.656947   \n",
       "\n",
       "         p3 stability  stability_encode  c1_scaled  c2_scaled  c3_scaled  \\\n",
       "0  0.958034  unstable                 1   1.081419  -0.018211  -1.094476   \n",
       "1  0.781760    stable                 0  -1.593468  -1.438812  -0.012619   \n",
       "2  0.109853  unstable                 1   0.099583  -0.063957   0.760554   \n",
       "3  0.362718  unstable                 1   0.515523  -1.591649   0.582859   \n",
       "4  0.820923  unstable                 1   0.288911  -1.377018   1.606921   \n",
       "\n",
       "   p1_scaled  p2_scaled  p3_scaled  \n",
       "0   1.222662   1.322361   1.580336  \n",
       "1   1.233007   0.135203   0.937256  \n",
       "2   0.883834   1.147188  -1.513985  \n",
       "3   1.650043   1.475399  -0.591488  \n",
       "4  -0.251455   0.481190   1.080132  "
      ]
     },
     "execution_count": 35,
     "metadata": {},
     "output_type": "execute_result"
    }
   ],
   "source": [
    "grid_data.head()"
   ]
  },
  {
   "cell_type": "code",
   "execution_count": null,
   "id": "a47f77fb-f72d-440c-93be-cc9f8b9fc200",
   "metadata": {},
   "outputs": [],
   "source": []
  }
 ],
 "metadata": {
  "kernelspec": {
   "display_name": "Python 3 (ipykernel)",
   "language": "python",
   "name": "python3"
  },
  "language_info": {
   "codemirror_mode": {
    "name": "ipython",
    "version": 3
   },
   "file_extension": ".py",
   "mimetype": "text/x-python",
   "name": "python",
   "nbconvert_exporter": "python",
   "pygments_lexer": "ipython3",
   "version": "3.12.2"
  }
 },
 "nbformat": 4,
 "nbformat_minor": 5
}
